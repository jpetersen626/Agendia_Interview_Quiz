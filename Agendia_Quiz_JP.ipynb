{
 "cells": [
  {
   "cell_type": "markdown",
   "id": "843066c2-fcd8-40ac-b961-3ca0db511afb",
   "metadata": {},
   "source": [
    "# Agendia Interview Quiz"
   ]
  },
  {
   "cell_type": "markdown",
   "id": "099dee6a-1c85-4d15-bc0d-00af534de87b",
   "metadata": {},
   "source": [
    "By Jackie Petersen"
   ]
  },
  {
   "cell_type": "code",
   "execution_count": 114,
   "id": "529440b0-0613-4a6f-af9f-b269327c60c9",
   "metadata": {},
   "outputs": [],
   "source": [
    "# imports\n",
    "import pandas as pd\n",
    "import numpy as np\n",
    "import matplotlib.pyplot as plt\n",
    "import seaborn as sns"
   ]
  },
  {
   "cell_type": "code",
   "execution_count": 115,
   "id": "c6dd389d-9431-4ab6-b643-9b1ea0759b8c",
   "metadata": {},
   "outputs": [
    {
     "data": {
      "text/html": [
       "<div>\n",
       "<style scoped>\n",
       "    .dataframe tbody tr th:only-of-type {\n",
       "        vertical-align: middle;\n",
       "    }\n",
       "\n",
       "    .dataframe tbody tr th {\n",
       "        vertical-align: top;\n",
       "    }\n",
       "\n",
       "    .dataframe thead th {\n",
       "        text-align: right;\n",
       "    }\n",
       "</style>\n",
       "<table border=\"1\" class=\"dataframe\">\n",
       "  <thead>\n",
       "    <tr style=\"text-align: right;\">\n",
       "      <th></th>\n",
       "      <th>Var1</th>\n",
       "      <th>Var2</th>\n",
       "      <th>Var3</th>\n",
       "      <th>Var4</th>\n",
       "      <th>Var5</th>\n",
       "      <th>Var6</th>\n",
       "      <th>Var7</th>\n",
       "      <th>Var8</th>\n",
       "      <th>Var9</th>\n",
       "      <th>Var10</th>\n",
       "    </tr>\n",
       "  </thead>\n",
       "  <tbody>\n",
       "    <tr>\n",
       "      <th>0</th>\n",
       "      <td>0.113703</td>\n",
       "      <td>-0.020142</td>\n",
       "      <td>-0.191981</td>\n",
       "      <td>-0.134879</td>\n",
       "      <td>0.544054</td>\n",
       "      <td>-0.109693</td>\n",
       "      <td>0.806740</td>\n",
       "      <td>0.148723</td>\n",
       "      <td>0.236825</td>\n",
       "      <td>-0.086808</td>\n",
       "    </tr>\n",
       "    <tr>\n",
       "      <th>1</th>\n",
       "      <td>0.622299</td>\n",
       "      <td>0.775105</td>\n",
       "      <td>0.210805</td>\n",
       "      <td>0.732455</td>\n",
       "      <td>0.681062</td>\n",
       "      <td>-0.553372</td>\n",
       "      <td>0.927581</td>\n",
       "      <td>0.598278</td>\n",
       "      <td>0.809218</td>\n",
       "      <td>0.653693</td>\n",
       "    </tr>\n",
       "    <tr>\n",
       "      <th>2</th>\n",
       "      <td>0.609275</td>\n",
       "      <td>0.612472</td>\n",
       "      <td>0.099767</td>\n",
       "      <td>0.468287</td>\n",
       "      <td>0.414651</td>\n",
       "      <td>-0.703363</td>\n",
       "      <td>0.453796</td>\n",
       "      <td>0.506354</td>\n",
       "      <td>0.495636</td>\n",
       "      <td>0.007674</td>\n",
       "    </tr>\n",
       "    <tr>\n",
       "      <th>3</th>\n",
       "      <td>0.623379</td>\n",
       "      <td>0.379336</td>\n",
       "      <td>0.380884</td>\n",
       "      <td>0.775001</td>\n",
       "      <td>0.344287</td>\n",
       "      <td>-0.603426</td>\n",
       "      <td>0.468473</td>\n",
       "      <td>0.826142</td>\n",
       "      <td>0.770183</td>\n",
       "      <td>0.053877</td>\n",
       "    </tr>\n",
       "    <tr>\n",
       "      <th>4</th>\n",
       "      <td>0.860915</td>\n",
       "      <td>0.863682</td>\n",
       "      <td>NaN</td>\n",
       "      <td>0.726049</td>\n",
       "      <td>1.089600</td>\n",
       "      <td>-0.907231</td>\n",
       "      <td>0.267629</td>\n",
       "      <td>1.149640</td>\n",
       "      <td>0.827683</td>\n",
       "      <td>0.947081</td>\n",
       "    </tr>\n",
       "  </tbody>\n",
       "</table>\n",
       "</div>"
      ],
      "text/plain": [
       "       Var1      Var2      Var3      Var4      Var5      Var6      Var7  \\\n",
       "0  0.113703 -0.020142 -0.191981 -0.134879  0.544054 -0.109693  0.806740   \n",
       "1  0.622299  0.775105  0.210805  0.732455  0.681062 -0.553372  0.927581   \n",
       "2  0.609275  0.612472  0.099767  0.468287  0.414651 -0.703363  0.453796   \n",
       "3  0.623379  0.379336  0.380884  0.775001  0.344287 -0.603426  0.468473   \n",
       "4  0.860915  0.863682       NaN  0.726049  1.089600 -0.907231  0.267629   \n",
       "\n",
       "       Var8      Var9     Var10  \n",
       "0  0.148723  0.236825 -0.086808  \n",
       "1  0.598278  0.809218  0.653693  \n",
       "2  0.506354  0.495636  0.007674  \n",
       "3  0.826142  0.770183  0.053877  \n",
       "4  1.149640  0.827683  0.947081  "
      ]
     },
     "execution_count": 115,
     "metadata": {},
     "output_type": "execute_result"
    }
   ],
   "source": [
    "# read in the data\n",
    "df = pd.read_csv('Agendia_dataset.csv')\n",
    "df.head()"
   ]
  },
  {
   "cell_type": "markdown",
   "id": "e823cbac-ba35-4ae1-9699-65f547d71e62",
   "metadata": {},
   "source": [
    "#### Exploring the data"
   ]
  },
  {
   "cell_type": "code",
   "execution_count": 116,
   "id": "758b8d1f-768e-44f1-8490-2b13571d676e",
   "metadata": {},
   "outputs": [
    {
     "name": "stdout",
     "output_type": "stream",
     "text": [
      "<class 'pandas.core.frame.DataFrame'>\n",
      "RangeIndex: 50 entries, 0 to 49\n",
      "Data columns (total 10 columns):\n",
      " #   Column  Non-Null Count  Dtype  \n",
      "---  ------  --------------  -----  \n",
      " 0   Var1    50 non-null     float64\n",
      " 1   Var2    50 non-null     float64\n",
      " 2   Var3    45 non-null     float64\n",
      " 3   Var4    50 non-null     float64\n",
      " 4   Var5    50 non-null     float64\n",
      " 5   Var6    50 non-null     float64\n",
      " 6   Var7    50 non-null     float64\n",
      " 7   Var8    50 non-null     float64\n",
      " 8   Var9    50 non-null     float64\n",
      " 9   Var10   50 non-null     float64\n",
      "dtypes: float64(10)\n",
      "memory usage: 4.0 KB\n"
     ]
    }
   ],
   "source": [
    "df.info()"
   ]
  },
  {
   "cell_type": "code",
   "execution_count": 117,
   "id": "c19bbb22-8d0f-4bf9-ab6d-f39efaa6e208",
   "metadata": {},
   "outputs": [
    {
     "data": {
      "text/html": [
       "<div>\n",
       "<style scoped>\n",
       "    .dataframe tbody tr th:only-of-type {\n",
       "        vertical-align: middle;\n",
       "    }\n",
       "\n",
       "    .dataframe tbody tr th {\n",
       "        vertical-align: top;\n",
       "    }\n",
       "\n",
       "    .dataframe thead th {\n",
       "        text-align: right;\n",
       "    }\n",
       "</style>\n",
       "<table border=\"1\" class=\"dataframe\">\n",
       "  <thead>\n",
       "    <tr style=\"text-align: right;\">\n",
       "      <th></th>\n",
       "      <th>Var1</th>\n",
       "      <th>Var2</th>\n",
       "      <th>Var3</th>\n",
       "      <th>Var4</th>\n",
       "      <th>Var5</th>\n",
       "      <th>Var6</th>\n",
       "      <th>Var7</th>\n",
       "      <th>Var8</th>\n",
       "      <th>Var9</th>\n",
       "      <th>Var10</th>\n",
       "    </tr>\n",
       "  </thead>\n",
       "  <tbody>\n",
       "    <tr>\n",
       "      <th>count</th>\n",
       "      <td>50.000000</td>\n",
       "      <td>50.000000</td>\n",
       "      <td>45.000000</td>\n",
       "      <td>50.000000</td>\n",
       "      <td>50.000000</td>\n",
       "      <td>50.000000</td>\n",
       "      <td>50.000000</td>\n",
       "      <td>50.000000</td>\n",
       "      <td>50.000000</td>\n",
       "      <td>50.000000</td>\n",
       "    </tr>\n",
       "    <tr>\n",
       "      <th>mean</th>\n",
       "      <td>0.469481</td>\n",
       "      <td>0.402490</td>\n",
       "      <td>0.489891</td>\n",
       "      <td>0.535269</td>\n",
       "      <td>0.481135</td>\n",
       "      <td>-0.467637</td>\n",
       "      <td>0.495902</td>\n",
       "      <td>0.482265</td>\n",
       "      <td>0.498750</td>\n",
       "      <td>0.502761</td>\n",
       "    </tr>\n",
       "    <tr>\n",
       "      <th>std</th>\n",
       "      <td>0.263871</td>\n",
       "      <td>0.318720</td>\n",
       "      <td>0.491264</td>\n",
       "      <td>0.599893</td>\n",
       "      <td>0.360983</td>\n",
       "      <td>0.286225</td>\n",
       "      <td>0.550506</td>\n",
       "      <td>0.359341</td>\n",
       "      <td>0.284341</td>\n",
       "      <td>0.577238</td>\n",
       "    </tr>\n",
       "    <tr>\n",
       "      <th>min</th>\n",
       "      <td>0.009496</td>\n",
       "      <td>-0.248381</td>\n",
       "      <td>-0.409247</td>\n",
       "      <td>-0.819803</td>\n",
       "      <td>-0.308535</td>\n",
       "      <td>-1.069065</td>\n",
       "      <td>-0.579576</td>\n",
       "      <td>-0.151533</td>\n",
       "      <td>-0.051121</td>\n",
       "      <td>-0.749464</td>\n",
       "    </tr>\n",
       "    <tr>\n",
       "      <th>25%</th>\n",
       "      <td>0.260404</td>\n",
       "      <td>0.225523</td>\n",
       "      <td>0.125549</td>\n",
       "      <td>0.045341</td>\n",
       "      <td>0.244259</td>\n",
       "      <td>-0.699172</td>\n",
       "      <td>0.113581</td>\n",
       "      <td>0.199652</td>\n",
       "      <td>0.262063</td>\n",
       "      <td>0.056919</td>\n",
       "    </tr>\n",
       "    <tr>\n",
       "      <th>50%</th>\n",
       "      <td>0.493494</td>\n",
       "      <td>0.366431</td>\n",
       "      <td>0.521477</td>\n",
       "      <td>0.607650</td>\n",
       "      <td>0.445399</td>\n",
       "      <td>-0.414533</td>\n",
       "      <td>0.446750</td>\n",
       "      <td>0.457692</td>\n",
       "      <td>0.495754</td>\n",
       "      <td>0.416758</td>\n",
       "    </tr>\n",
       "    <tr>\n",
       "      <th>75%</th>\n",
       "      <td>0.661164</td>\n",
       "      <td>0.630165</td>\n",
       "      <td>0.815127</td>\n",
       "      <td>0.881676</td>\n",
       "      <td>0.706706</td>\n",
       "      <td>-0.222793</td>\n",
       "      <td>0.934630</td>\n",
       "      <td>0.800995</td>\n",
       "      <td>0.718437</td>\n",
       "      <td>0.997728</td>\n",
       "    </tr>\n",
       "    <tr>\n",
       "      <th>max</th>\n",
       "      <td>0.992150</td>\n",
       "      <td>1.270785</td>\n",
       "      <td>1.498083</td>\n",
       "      <td>1.660966</td>\n",
       "      <td>1.220251</td>\n",
       "      <td>0.043707</td>\n",
       "      <td>1.697750</td>\n",
       "      <td>1.207747</td>\n",
       "      <td>1.096372</td>\n",
       "      <td>1.807259</td>\n",
       "    </tr>\n",
       "  </tbody>\n",
       "</table>\n",
       "</div>"
      ],
      "text/plain": [
       "            Var1       Var2       Var3       Var4       Var5       Var6  \\\n",
       "count  50.000000  50.000000  45.000000  50.000000  50.000000  50.000000   \n",
       "mean    0.469481   0.402490   0.489891   0.535269   0.481135  -0.467637   \n",
       "std     0.263871   0.318720   0.491264   0.599893   0.360983   0.286225   \n",
       "min     0.009496  -0.248381  -0.409247  -0.819803  -0.308535  -1.069065   \n",
       "25%     0.260404   0.225523   0.125549   0.045341   0.244259  -0.699172   \n",
       "50%     0.493494   0.366431   0.521477   0.607650   0.445399  -0.414533   \n",
       "75%     0.661164   0.630165   0.815127   0.881676   0.706706  -0.222793   \n",
       "max     0.992150   1.270785   1.498083   1.660966   1.220251   0.043707   \n",
       "\n",
       "            Var7       Var8       Var9      Var10  \n",
       "count  50.000000  50.000000  50.000000  50.000000  \n",
       "mean    0.495902   0.482265   0.498750   0.502761  \n",
       "std     0.550506   0.359341   0.284341   0.577238  \n",
       "min    -0.579576  -0.151533  -0.051121  -0.749464  \n",
       "25%     0.113581   0.199652   0.262063   0.056919  \n",
       "50%     0.446750   0.457692   0.495754   0.416758  \n",
       "75%     0.934630   0.800995   0.718437   0.997728  \n",
       "max     1.697750   1.207747   1.096372   1.807259  "
      ]
     },
     "execution_count": 117,
     "metadata": {},
     "output_type": "execute_result"
    }
   ],
   "source": [
    "df.describe()"
   ]
  },
  {
   "cell_type": "markdown",
   "id": "1de9b1c5-65de-42d7-a940-41376706c83b",
   "metadata": {},
   "source": [
    "#### 1. Plot the relationship between the first two columns."
   ]
  },
  {
   "cell_type": "code",
   "execution_count": 118,
   "id": "f04828a6-fdfb-4d91-a8ba-4d9b8eca3869",
   "metadata": {},
   "outputs": [
    {
     "data": {
      "image/png": "[encoded data removed]",
      "text/plain": [
       "<Figure size 432x288 with 1 Axes>"
      ]
     },
     "metadata": {
      "needs_background": "light"
     },
     "output_type": "display_data"
    }
   ],
   "source": [
    "sns.scatterplot(x=df['Var1'], y=df['Var2'])\n",
    "plt.title('Linear Relationship Between Var1 and Var2');"
   ]
  },
  {
   "cell_type": "markdown",
   "id": "f0a60ded-1c3d-49ef-8c5b-4eba9a87b682",
   "metadata": {},
   "source": [
    "#### 2. What's the Pearson's correlation coefficient between the first two columns?"
   ]
  },
  {
   "cell_type": "code",
   "execution_count": 119,
   "id": "59b0a109-da22-4d2e-899c-5142a3ec02bf",
   "metadata": {},
   "outputs": [
    {
     "data": {
      "text/html": [
       "<div>\n",
       "<style scoped>\n",
       "    .dataframe tbody tr th:only-of-type {\n",
       "        vertical-align: middle;\n",
       "    }\n",
       "\n",
       "    .dataframe tbody tr th {\n",
       "        vertical-align: top;\n",
       "    }\n",
       "\n",
       "    .dataframe thead th {\n",
       "        text-align: right;\n",
       "    }\n",
       "</style>\n",
       "<table border=\"1\" class=\"dataframe\">\n",
       "  <thead>\n",
       "    <tr style=\"text-align: right;\">\n",
       "      <th></th>\n",
       "      <th>Var1</th>\n",
       "      <th>Var2</th>\n",
       "      <th>Var3</th>\n",
       "      <th>Var4</th>\n",
       "      <th>Var5</th>\n",
       "      <th>Var6</th>\n",
       "      <th>Var7</th>\n",
       "      <th>Var8</th>\n",
       "      <th>Var9</th>\n",
       "      <th>Var10</th>\n",
       "    </tr>\n",
       "  </thead>\n",
       "  <tbody>\n",
       "    <tr>\n",
       "      <th>Var1</th>\n",
       "      <td>1.000000</td>\n",
       "      <td>0.765671</td>\n",
       "      <td>0.548249</td>\n",
       "      <td>0.521885</td>\n",
       "      <td>0.748800</td>\n",
       "      <td>-0.982460</td>\n",
       "      <td>0.416261</td>\n",
       "      <td>0.891173</td>\n",
       "      <td>0.916019</td>\n",
       "      <td>0.473801</td>\n",
       "    </tr>\n",
       "    <tr>\n",
       "      <th>Var2</th>\n",
       "      <td>0.765671</td>\n",
       "      <td>1.000000</td>\n",
       "      <td>0.421043</td>\n",
       "      <td>0.252098</td>\n",
       "      <td>0.610176</td>\n",
       "      <td>-0.798070</td>\n",
       "      <td>0.372379</td>\n",
       "      <td>0.724134</td>\n",
       "      <td>0.692826</td>\n",
       "      <td>0.440650</td>\n",
       "    </tr>\n",
       "    <tr>\n",
       "      <th>Var3</th>\n",
       "      <td>0.548249</td>\n",
       "      <td>0.421043</td>\n",
       "      <td>1.000000</td>\n",
       "      <td>0.442590</td>\n",
       "      <td>0.424868</td>\n",
       "      <td>-0.544264</td>\n",
       "      <td>0.265639</td>\n",
       "      <td>0.418496</td>\n",
       "      <td>0.522285</td>\n",
       "      <td>0.344549</td>\n",
       "    </tr>\n",
       "    <tr>\n",
       "      <th>Var4</th>\n",
       "      <td>0.521885</td>\n",
       "      <td>0.252098</td>\n",
       "      <td>0.442590</td>\n",
       "      <td>1.000000</td>\n",
       "      <td>0.325552</td>\n",
       "      <td>-0.459169</td>\n",
       "      <td>0.194794</td>\n",
       "      <td>0.382488</td>\n",
       "      <td>0.518619</td>\n",
       "      <td>0.272015</td>\n",
       "    </tr>\n",
       "    <tr>\n",
       "      <th>Var5</th>\n",
       "      <td>0.748800</td>\n",
       "      <td>0.610176</td>\n",
       "      <td>0.424868</td>\n",
       "      <td>0.325552</td>\n",
       "      <td>1.000000</td>\n",
       "      <td>-0.743629</td>\n",
       "      <td>0.216787</td>\n",
       "      <td>0.662832</td>\n",
       "      <td>0.760292</td>\n",
       "      <td>0.323499</td>\n",
       "    </tr>\n",
       "    <tr>\n",
       "      <th>Var6</th>\n",
       "      <td>-0.982460</td>\n",
       "      <td>-0.798070</td>\n",
       "      <td>-0.544264</td>\n",
       "      <td>-0.459169</td>\n",
       "      <td>-0.743629</td>\n",
       "      <td>1.000000</td>\n",
       "      <td>-0.427120</td>\n",
       "      <td>-0.876887</td>\n",
       "      <td>-0.896611</td>\n",
       "      <td>-0.463346</td>\n",
       "    </tr>\n",
       "    <tr>\n",
       "      <th>Var7</th>\n",
       "      <td>0.416261</td>\n",
       "      <td>0.372379</td>\n",
       "      <td>0.265639</td>\n",
       "      <td>0.194794</td>\n",
       "      <td>0.216787</td>\n",
       "      <td>-0.427120</td>\n",
       "      <td>1.000000</td>\n",
       "      <td>0.322342</td>\n",
       "      <td>0.407065</td>\n",
       "      <td>0.329266</td>\n",
       "    </tr>\n",
       "    <tr>\n",
       "      <th>Var8</th>\n",
       "      <td>0.891173</td>\n",
       "      <td>0.724134</td>\n",
       "      <td>0.418496</td>\n",
       "      <td>0.382488</td>\n",
       "      <td>0.662832</td>\n",
       "      <td>-0.876887</td>\n",
       "      <td>0.322342</td>\n",
       "      <td>1.000000</td>\n",
       "      <td>0.794874</td>\n",
       "      <td>0.455446</td>\n",
       "    </tr>\n",
       "    <tr>\n",
       "      <th>Var9</th>\n",
       "      <td>0.916019</td>\n",
       "      <td>0.692826</td>\n",
       "      <td>0.522285</td>\n",
       "      <td>0.518619</td>\n",
       "      <td>0.760292</td>\n",
       "      <td>-0.896611</td>\n",
       "      <td>0.407065</td>\n",
       "      <td>0.794874</td>\n",
       "      <td>1.000000</td>\n",
       "      <td>0.415558</td>\n",
       "    </tr>\n",
       "    <tr>\n",
       "      <th>Var10</th>\n",
       "      <td>0.473801</td>\n",
       "      <td>0.440650</td>\n",
       "      <td>0.344549</td>\n",
       "      <td>0.272015</td>\n",
       "      <td>0.323499</td>\n",
       "      <td>-0.463346</td>\n",
       "      <td>0.329266</td>\n",
       "      <td>0.455446</td>\n",
       "      <td>0.415558</td>\n",
       "      <td>1.000000</td>\n",
       "    </tr>\n",
       "  </tbody>\n",
       "</table>\n",
       "</div>"
      ],
      "text/plain": [
       "           Var1      Var2      Var3      Var4      Var5      Var6      Var7  \\\n",
       "Var1   1.000000  0.765671  0.548249  0.521885  0.748800 -0.982460  0.416261   \n",
       "Var2   0.765671  1.000000  0.421043  0.252098  0.610176 -0.798070  0.372379   \n",
       "Var3   0.548249  0.421043  1.000000  0.442590  0.424868 -0.544264  0.265639   \n",
       "Var4   0.521885  0.252098  0.442590  1.000000  0.325552 -0.459169  0.194794   \n",
       "Var5   0.748800  0.610176  0.424868  0.325552  1.000000 -0.743629  0.216787   \n",
       "Var6  -0.982460 -0.798070 -0.544264 -0.459169 -0.743629  1.000000 -0.427120   \n",
       "Var7   0.416261  0.372379  0.265639  0.194794  0.216787 -0.427120  1.000000   \n",
       "Var8   0.891173  0.724134  0.418496  0.382488  0.662832 -0.876887  0.322342   \n",
       "Var9   0.916019  0.692826  0.522285  0.518619  0.760292 -0.896611  0.407065   \n",
       "Var10  0.473801  0.440650  0.344549  0.272015  0.323499 -0.463346  0.329266   \n",
       "\n",
       "           Var8      Var9     Var10  \n",
       "Var1   0.891173  0.916019  0.473801  \n",
       "Var2   0.724134  0.692826  0.440650  \n",
       "Var3   0.418496  0.522285  0.344549  \n",
       "Var4   0.382488  0.518619  0.272015  \n",
       "Var5   0.662832  0.760292  0.323499  \n",
       "Var6  -0.876887 -0.896611 -0.463346  \n",
       "Var7   0.322342  0.407065  0.329266  \n",
       "Var8   1.000000  0.794874  0.455446  \n",
       "Var9   0.794874  1.000000  0.415558  \n",
       "Var10  0.455446  0.415558  1.000000  "
      ]
     },
     "execution_count": 119,
     "metadata": {},
     "output_type": "execute_result"
    }
   ],
   "source": [
    "# getting the correlation coefficients for all the columns\n",
    "df.corr(method='pearson')"
   ]
  },
  {
   "cell_type": "markdown",
   "id": "07bf383b-a4b8-4316-9a71-572b668679a5",
   "metadata": {},
   "source": [
    "- The Pearson's correlation coefficient for the first two columns (Var1 and Var2) is 0.765671."
   ]
  },
  {
   "cell_type": "markdown",
   "id": "3090c70e-6fae-48d4-ad14-743f9a951d3a",
   "metadata": {
    "tags": []
   },
   "source": [
    "#### 3. Between the second and the third?"
   ]
  },
  {
   "cell_type": "code",
   "execution_count": 120,
   "id": "f43c3e7b-0f3d-4a1a-8f8d-e3ccee29a055",
   "metadata": {},
   "outputs": [
    {
     "data": {
      "image/png": "[encoded data removed]",
      "text/plain": [
       "<Figure size 432x288 with 1 Axes>"
      ]
     },
     "metadata": {
      "needs_background": "light"
     },
     "output_type": "display_data"
    }
   ],
   "source": [
    "sns.scatterplot(x=df['Var2'], y=df['Var3'])\n",
    "plt.title('Linear Relationship Between Var2 and Var3');"
   ]
  },
  {
   "cell_type": "markdown",
   "id": "9cce571e-b842-4b62-b1cc-f60ec022a1bf",
   "metadata": {},
   "source": [
    "- The Pearson's correlation coefficient between the second and third columns (Var2 and Var3) is 0.421043."
   ]
  },
  {
   "cell_type": "markdown",
   "id": "12a43be2-5119-46bd-a6e8-c2f6a68b4adc",
   "metadata": {},
   "source": [
    "#### 4. Which two columns in the dataset are the most related?"
   ]
  },
  {
   "cell_type": "code",
   "execution_count": 121,
   "id": "70aeff09-01e3-4f67-96aa-2867fe3624a2",
   "metadata": {},
   "outputs": [
    {
     "data": {
      "image/png": "[encoded data removed]",
      "text/plain": [
       "<Figure size 720x576 with 2 Axes>"
      ]
     },
     "metadata": {
      "needs_background": "light"
     },
     "output_type": "display_data"
    }
   ],
   "source": [
    "# visualizing the correlation coefficients to interpret easier\n",
    "plt.figure(figsize=(10,8))\n",
    "sns.heatmap(df.corr(), annot=True, vmin=-1, cmap='viridis')\n",
    "plt.title('Correlation Coefficients Between All Columns');"
   ]
  },
  {
   "cell_type": "markdown",
   "id": "cd9bc769-9d67-40d8-8983-bb2ff19bfb9e",
   "metadata": {},
   "source": [
    "- The two most related columns are the 1st and 6th column (Var1 and Var6)."
   ]
  },
  {
   "cell_type": "markdown",
   "id": "2c26ff33-e408-4f37-9287-7115aeaa79d9",
   "metadata": {},
   "source": [
    "#### 5. How would you show the answer to the previous question visually? Please justify your choice of plot using 1-2 sentences."
   ]
  },
  {
   "cell_type": "markdown",
   "id": "72cb33b1-1cc8-4b6e-a131-a862e4664f5a",
   "metadata": {},
   "source": [
    "- I would create a scatter plot. This plot gives a great visual idea of the linear relationship between the two columns. Since it has the highest correlation, this would give the most linear looking plot. This plot will also show if the relationship is a positive or a negative correlation based on the direction of the line."
   ]
  },
  {
   "cell_type": "code",
   "execution_count": 122,
   "id": "d6fc7815-8eaf-4af2-ae14-15fb837e8ca1",
   "metadata": {},
   "outputs": [
    {
     "data": {
      "image/png": "[encoded data removed]",
      "text/plain": [
       "<Figure size 432x288 with 1 Axes>"
      ]
     },
     "metadata": {
      "needs_background": "light"
     },
     "output_type": "display_data"
    }
   ],
   "source": [
    "sns.scatterplot(x=df['Var1'], y=df['Var6'])\n",
    "plt.title('Linear Relationship Between Var1 and Var6');"
   ]
  },
  {
   "cell_type": "markdown",
   "id": "36eae9e3-aba0-4429-a0e9-ef67a9b59558",
   "metadata": {},
   "source": [
    "#### 6. What's the equation of the best fit line between the two most related columns?"
   ]
  },
  {
   "cell_type": "code",
   "execution_count": 213,
   "id": "22cb428f-728a-42b9-8862-c941036ce81c",
   "metadata": {},
   "outputs": [
    {
     "data": {
      "text/plain": [
       "array([-1.06568947,  0.03268357])"
      ]
     },
     "execution_count": 213,
     "metadata": {},
     "output_type": "execute_result"
    }
   ],
   "source": [
    "# Line fitting with numpy polynomial\n",
    "np.polyfit(df['Var1'], df['Var6'], 1) # 1 for degree of polynomial - for linear regression "
   ]
  },
  {
   "cell_type": "markdown",
   "id": "e85af637-36f8-4050-89ce-ee3dbbad66fd",
   "metadata": {},
   "source": [
    "- The first number in the array above is the slope (a) and the second number is the intercept (b).\n",
    "- The equation is y = a * x + b. So the equation for this specific problem is: <br>\n",
    "> y = -1.06568947 * x + 0.03268357"
   ]
  },
  {
   "cell_type": "markdown",
   "id": "30288136-16de-4ae7-925b-2c3704ddae4b",
   "metadata": {},
   "source": [
    "#### 7. Plot the two most related columns and annotate it with the best fit line, its equation, and the Pearson's correlation coefficient."
   ]
  },
  {
   "cell_type": "code",
   "execution_count": 198,
   "id": "624a45e9-1469-4b87-94f0-bef3f857d5db",
   "metadata": {},
   "outputs": [
    {
     "data": {
      "text/plain": [
       "-0.98"
      ]
     },
     "execution_count": 198,
     "metadata": {},
     "output_type": "execute_result"
    }
   ],
   "source": [
    "# Pearson's correlation coefficient for Var1 & Var6\n",
    "coef = np.corrcoef(x=df['Var1'], y=df['Var6'])[1][0].round(2)\n",
    "coef"
   ]
  },
  {
   "cell_type": "code",
   "execution_count": 250,
   "id": "ad380d69-c39e-4b5d-9e78-346ed3222bed",
   "metadata": {},
   "outputs": [
    {
     "data": {
      "image/png": "[encoded data removed]",
      "text/plain": [
       "<Figure size 576x432 with 1 Axes>"
      ]
     },
     "metadata": {
      "needs_background": "light"
     },
     "output_type": "display_data"
    }
   ],
   "source": [
    "plt.figure(figsize=(8,6))\n",
    "sns.regplot(data=df, x='Var1', y='Var6', line_kws={'color':'red', 'linestyle':'--'})\n",
    "plt.title('Linear Relationship Between Var1 and Var6 with Best Fit Line')\n",
    "plt.legend(labels=[\"y = -1.07 * x + 0.03\", f\"Pearson's Correlation Coefficient: {coef}\"]);"
   ]
  },
  {
   "cell_type": "code",
   "execution_count": null,
   "id": "da715350-1135-4777-bef7-0618d15561f9",
   "metadata": {},
   "outputs": [],
   "source": []
  }
 ],
 "metadata": {
  "kernelspec": {
   "display_name": "Python 3 (ipykernel)",
   "language": "python",
   "name": "python3"
  },
  "language_info": {
   "codemirror_mode": {
    "name": "ipython",
    "version": 3
   },
   "file_extension": ".py",
   "mimetype": "text/x-python",
   "name": "python",
   "nbconvert_exporter": "python",
   "pygments_lexer": "ipython3",
   "version": "3.9.7"
  }
 },
 "nbformat": 4,
 "nbformat_minor": 5
}
