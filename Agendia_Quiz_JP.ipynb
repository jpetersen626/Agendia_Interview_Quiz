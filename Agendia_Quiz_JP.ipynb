{
 "cells": [
  {
   "cell_type": "markdown",
   "id": "843066c2-fcd8-40ac-b961-3ca0db511afb",
   "metadata": {},
   "source": [
    "# Agendia Interview Quiz"
   ]
  },
  {
   "cell_type": "markdown",
   "id": "099dee6a-1c85-4d15-bc0d-00af534de87b",
   "metadata": {},
   "source": [
    "By Jackie Petersen"
   ]
  },
  {
   "cell_type": "code",
   "execution_count": 1,
   "id": "529440b0-0613-4a6f-af9f-b269327c60c9",
   "metadata": {},
   "outputs": [],
   "source": [
    "# imports\n",
    "import pandas as pd\n",
    "import numpy as np\n",
    "import matplotlib.pyplot as plt\n",
    "import seaborn as sns"
   ]
  },
  {
   "cell_type": "code",
   "execution_count": 4,
   "id": "c6dd389d-9431-4ab6-b643-9b1ea0759b8c",
   "metadata": {},
   "outputs": [
    {
     "data": {
      "text/html": [
       "<div>\n",
       "<style scoped>\n",
       "    .dataframe tbody tr th:only-of-type {\n",
       "        vertical-align: middle;\n",
       "    }\n",
       "\n",
       "    .dataframe tbody tr th {\n",
       "        vertical-align: top;\n",
       "    }\n",
       "\n",
       "    .dataframe thead th {\n",
       "        text-align: right;\n",
       "    }\n",
       "</style>\n",
       "<table border=\"1\" class=\"dataframe\">\n",
       "  <thead>\n",
       "    <tr style=\"text-align: right;\">\n",
       "      <th></th>\n",
       "      <th>Var1</th>\n",
       "      <th>Var2</th>\n",
       "      <th>Var3</th>\n",
       "      <th>Var4</th>\n",
       "      <th>Var5</th>\n",
       "      <th>Var6</th>\n",
       "      <th>Var7</th>\n",
       "      <th>Var8</th>\n",
       "      <th>Var9</th>\n",
       "      <th>Var10</th>\n",
       "    </tr>\n",
       "  </thead>\n",
       "  <tbody>\n",
       "    <tr>\n",
       "      <th>0</th>\n",
       "      <td>0.113703</td>\n",
       "      <td>-0.020142</td>\n",
       "      <td>-0.191981</td>\n",
       "      <td>-0.134879</td>\n",
       "      <td>0.544054</td>\n",
       "      <td>-0.109693</td>\n",
       "      <td>0.806740</td>\n",
       "      <td>0.148723</td>\n",
       "      <td>0.236825</td>\n",
       "      <td>-0.086808</td>\n",
       "    </tr>\n",
       "    <tr>\n",
       "      <th>1</th>\n",
       "      <td>0.622299</td>\n",
       "      <td>0.775105</td>\n",
       "      <td>0.210805</td>\n",
       "      <td>0.732455</td>\n",
       "      <td>0.681062</td>\n",
       "      <td>-0.553372</td>\n",
       "      <td>0.927581</td>\n",
       "      <td>0.598278</td>\n",
       "      <td>0.809218</td>\n",
       "      <td>0.653693</td>\n",
       "    </tr>\n",
       "    <tr>\n",
       "      <th>2</th>\n",
       "      <td>0.609275</td>\n",
       "      <td>0.612472</td>\n",
       "      <td>0.099767</td>\n",
       "      <td>0.468287</td>\n",
       "      <td>0.414651</td>\n",
       "      <td>-0.703363</td>\n",
       "      <td>0.453796</td>\n",
       "      <td>0.506354</td>\n",
       "      <td>0.495636</td>\n",
       "      <td>0.007674</td>\n",
       "    </tr>\n",
       "    <tr>\n",
       "      <th>3</th>\n",
       "      <td>0.623379</td>\n",
       "      <td>0.379336</td>\n",
       "      <td>0.380884</td>\n",
       "      <td>0.775001</td>\n",
       "      <td>0.344287</td>\n",
       "      <td>-0.603426</td>\n",
       "      <td>0.468473</td>\n",
       "      <td>0.826142</td>\n",
       "      <td>0.770183</td>\n",
       "      <td>0.053877</td>\n",
       "    </tr>\n",
       "    <tr>\n",
       "      <th>4</th>\n",
       "      <td>0.860915</td>\n",
       "      <td>0.863682</td>\n",
       "      <td>NaN</td>\n",
       "      <td>0.726049</td>\n",
       "      <td>1.089600</td>\n",
       "      <td>-0.907231</td>\n",
       "      <td>0.267629</td>\n",
       "      <td>1.149640</td>\n",
       "      <td>0.827683</td>\n",
       "      <td>0.947081</td>\n",
       "    </tr>\n",
       "  </tbody>\n",
       "</table>\n",
       "</div>"
      ],
      "text/plain": [
       "       Var1      Var2      Var3      Var4      Var5      Var6      Var7  \\\n",
       "0  0.113703 -0.020142 -0.191981 -0.134879  0.544054 -0.109693  0.806740   \n",
       "1  0.622299  0.775105  0.210805  0.732455  0.681062 -0.553372  0.927581   \n",
       "2  0.609275  0.612472  0.099767  0.468287  0.414651 -0.703363  0.453796   \n",
       "3  0.623379  0.379336  0.380884  0.775001  0.344287 -0.603426  0.468473   \n",
       "4  0.860915  0.863682       NaN  0.726049  1.089600 -0.907231  0.267629   \n",
       "\n",
       "       Var8      Var9     Var10  \n",
       "0  0.148723  0.236825 -0.086808  \n",
       "1  0.598278  0.809218  0.653693  \n",
       "2  0.506354  0.495636  0.007674  \n",
       "3  0.826142  0.770183  0.053877  \n",
       "4  1.149640  0.827683  0.947081  "
      ]
     },
     "execution_count": 4,
     "metadata": {},
     "output_type": "execute_result"
    }
   ],
   "source": [
    "# read in the data\n",
    "df = pd.read_csv('Agendia_dataset.csv')\n",
    "df.head()"
   ]
  },
  {
   "cell_type": "markdown",
   "id": "e823cbac-ba35-4ae1-9699-65f547d71e62",
   "metadata": {},
   "source": [
    "#### Exploring the data"
   ]
  },
  {
   "cell_type": "code",
   "execution_count": 5,
   "id": "758b8d1f-768e-44f1-8490-2b13571d676e",
   "metadata": {},
   "outputs": [
    {
     "name": "stdout",
     "output_type": "stream",
     "text": [
      "<class 'pandas.core.frame.DataFrame'>\n",
      "RangeIndex: 50 entries, 0 to 49\n",
      "Data columns (total 10 columns):\n",
      " #   Column  Non-Null Count  Dtype  \n",
      "---  ------  --------------  -----  \n",
      " 0   Var1    50 non-null     float64\n",
      " 1   Var2    50 non-null     float64\n",
      " 2   Var3    45 non-null     float64\n",
      " 3   Var4    50 non-null     float64\n",
      " 4   Var5    50 non-null     float64\n",
      " 5   Var6    50 non-null     float64\n",
      " 6   Var7    50 non-null     float64\n",
      " 7   Var8    50 non-null     float64\n",
      " 8   Var9    50 non-null     float64\n",
      " 9   Var10   50 non-null     float64\n",
      "dtypes: float64(10)\n",
      "memory usage: 4.0 KB\n"
     ]
    }
   ],
   "source": [
    "df.info()"
   ]
  },
  {
   "cell_type": "markdown",
   "id": "1de9b1c5-65de-42d7-a940-41376706c83b",
   "metadata": {},
   "source": [
    "#### 1. Plot the relationship between the first two columns."
   ]
  },
  {
   "cell_type": "code",
   "execution_count": null,
   "id": "f04828a6-fdfb-4d91-a8ba-4d9b8eca3869",
   "metadata": {},
   "outputs": [],
   "source": []
  },
  {
   "cell_type": "markdown",
   "id": "f0a60ded-1c3d-49ef-8c5b-4eba9a87b682",
   "metadata": {},
   "source": [
    "#### 2. What's the Pearson's correlation coefficient between the first two columns?"
   ]
  },
  {
   "cell_type": "code",
   "execution_count": null,
   "id": "59b0a109-da22-4d2e-899c-5142a3ec02bf",
   "metadata": {},
   "outputs": [],
   "source": []
  },
  {
   "cell_type": "markdown",
   "id": "3090c70e-6fae-48d4-ad14-743f9a951d3a",
   "metadata": {},
   "source": [
    "#### 3. Between the second and the third?"
   ]
  },
  {
   "cell_type": "code",
   "execution_count": null,
   "id": "f43c3e7b-0f3d-4a1a-8f8d-e3ccee29a055",
   "metadata": {},
   "outputs": [],
   "source": []
  },
  {
   "cell_type": "markdown",
   "id": "12a43be2-5119-46bd-a6e8-c2f6a68b4adc",
   "metadata": {},
   "source": [
    "#### 4. Which two columns in the dataset are the most related?"
   ]
  },
  {
   "cell_type": "code",
   "execution_count": null,
   "id": "70aeff09-01e3-4f67-96aa-2867fe3624a2",
   "metadata": {},
   "outputs": [],
   "source": []
  },
  {
   "cell_type": "markdown",
   "id": "2c26ff33-e408-4f37-9287-7115aeaa79d9",
   "metadata": {},
   "source": [
    "#### 5. How would you show the answer to the previous question visually? Please justify your choice of plot using 1-2 sentences."
   ]
  },
  {
   "cell_type": "code",
   "execution_count": null,
   "id": "0167e043-72a0-43cc-9f2b-a0906b44aa59",
   "metadata": {},
   "outputs": [],
   "source": []
  },
  {
   "cell_type": "markdown",
   "id": "36eae9e3-aba0-4429-a0e9-ef67a9b59558",
   "metadata": {},
   "source": [
    "#### 6. What's the equation of the best fit line between the two most related columns?"
   ]
  },
  {
   "cell_type": "code",
   "execution_count": null,
   "id": "9b1d417c-3a6a-4129-8024-deb3e42a8eab",
   "metadata": {},
   "outputs": [],
   "source": []
  },
  {
   "cell_type": "markdown",
   "id": "30288136-16de-4ae7-925b-2c3704ddae4b",
   "metadata": {},
   "source": [
    "#### 7. Plot the two most related columns and annotate it with the best fit line, its equation, and the Pearson's correlation coefficient."
   ]
  },
  {
   "cell_type": "code",
   "execution_count": null,
   "id": "f8c26a57-2a04-453f-93ec-b5874511a202",
   "metadata": {},
   "outputs": [],
   "source": []
  }
 ],
 "metadata": {
  "kernelspec": {
   "display_name": "Python 3 (ipykernel)",
   "language": "python",
   "name": "python3"
  },
  "language_info": {
   "codemirror_mode": {
    "name": "ipython",
    "version": 3
   },
   "file_extension": ".py",
   "mimetype": "text/x-python",
   "name": "python",
   "nbconvert_exporter": "python",
   "pygments_lexer": "ipython3",
   "version": "3.9.7"
  }
 },
 "nbformat": 4,
 "nbformat_minor": 5
}
